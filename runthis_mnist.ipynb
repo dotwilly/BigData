{
 "cells": [
  {
   "cell_type": "code",
   "execution_count": 1,
   "metadata": {},
   "outputs": [
    {
     "name": "stderr",
     "output_type": "stream",
     "text": [
      "E:\\python\\lib\\site-packages\\numpy\\core\\__init__.py:29: UserWarning: loaded more than 1 DLL from .libs:\n",
      "E:\\python\\lib\\site-packages\\numpy\\.libs\\libopenblas.IPBC74C7KURV7CB2PKT5Z5FNR3SIBV4J.gfortran-win_amd64.dll\n",
      "E:\\python\\lib\\site-packages\\numpy\\.libs\\libopenblas.PYQHXLVVQ7VESDPUVUADXEVJOBGHJPAY.gfortran-win_amd64.dll\n",
      "  stacklevel=1)\n"
     ]
    },
    {
     "name": "stdout",
     "output_type": "stream",
     "text": [
      "(60000, 785)\n",
      "(10000, 785)\n"
     ]
    }
   ],
   "source": [
    "import numpy as np\n",
    "import pandas as pd\n",
    "import matplotlib.pyplot as plt\n",
    "mnist = pd.read_csv('mnist_train.csv',header=None)#60000examples784attribute2class\n",
    "mnist_test = pd.read_csv('mnist_test.csv',header=None)#10000examples784attribute2class\n",
    "print(mnist.shape)\n",
    "print(mnist_test.shape)\n",
    "import time"
   ]
  },
  {
   "cell_type": "code",
   "execution_count": 2,
   "metadata": {},
   "outputs": [],
   "source": [
    "attribute = mnist.loc[:,mnist.columns!=0] # label attribure seperate\n",
    "label = mnist.loc[:,mnist.columns==0]\n",
    "attribute1 = mnist_test.loc[:,mnist_test.columns!=0] # label attribure seperate\n",
    "label1 = mnist_test.loc[:,mnist_test.columns==0]"
   ]
  },
  {
   "cell_type": "code",
   "execution_count": 3,
   "metadata": {},
   "outputs": [],
   "source": [
    "attribute_array=attribute.copy().values # covert to array\n",
    "label_array=label.copy().values\n",
    "attribute1_array=attribute1.copy().values # covert to array\n",
    "label1_array=label1.copy().values"
   ]
  },
  {
   "cell_type": "code",
   "execution_count": 4,
   "metadata": {},
   "outputs": [
    {
     "name": "stdout",
     "output_type": "stream",
     "text": [
      "60000\n",
      "10000\n"
     ]
    }
   ],
   "source": [
    "# data process\n",
    "print(len(label_array))\n",
    "for index,value in enumerate(label_array):\n",
    "    if value % 2 ==0:\n",
    "        label_array[index]= 1     # even is 1\n",
    "    else:\n",
    "        label_array[index]= -1   # odd is 1\n",
    "        \n",
    "print(len(label1_array))\n",
    "for index,value in enumerate(label1_array):\n",
    "    if value % 2 ==0:\n",
    "        label1_array[index]= 1     # even is 1\n",
    "    else:\n",
    "        label1_array[index]= -1   # odd is 1        "
   ]
  },
  {
   "cell_type": "code",
   "execution_count": 5,
   "metadata": {},
   "outputs": [],
   "source": [
    "attribute_array=attribute_array/255 # normalize\n",
    "attribute1_array=attribute1_array/255 # normalize"
   ]
  },
  {
   "cell_type": "code",
   "execution_count": 6,
   "metadata": {},
   "outputs": [],
   "source": [
    "x_train=attribute_array\n",
    "y_train=label_array\n",
    "x_test=attribute1_array\n",
    "y_test=label1_array"
   ]
  },
  {
   "cell_type": "code",
   "execution_count": 7,
   "metadata": {},
   "outputs": [
    {
     "name": "stdout",
     "output_type": "stream",
     "text": [
      "benchmark testing mnist accuracy: 0.899100 \n",
      "benchmark training time : 3.494844 sec\n",
      "benchmark traing mnist accuracy: 0.900883 \n"
     ]
    }
   ],
   "source": [
    "# benchmark\n",
    "from sklearn.linear_model import LogisticRegression\n",
    "clf = LogisticRegression(penalty='l1', solver='saga', tol=0.1)\n",
    "tbegin = time.time()\n",
    "clf.fit(x_train, y_train.ravel())\n",
    "tend = time.time()\n",
    "score = clf.score(x_train, y_train)\n",
    "score1 = clf.score(x_test, y_test)\n",
    "print(\"benchmark testing mnist accuracy: %f \" % score1 )\n",
    "print (\"benchmark training time : %f sec\" % (tend - tbegin))\n",
    "print(\"benchmark traing mnist accuracy: %f \" % score )"
   ]
  },
  {
   "cell_type": "code",
   "execution_count": 8,
   "metadata": {},
   "outputs": [],
   "source": [
    "# adam parameter\n",
    "m, dim = x_train.shape\n",
    "theta = np.zeros(dim)  # 参数\n",
    "alpha = 0.01  # 学习率\n",
    "iterations = 2500  # 迭代次数\n",
    "b1 = 0.95  \n",
    "b2 = 0.999  \n",
    "e = 0.000000001  #epilson\n",
    "mt = np.zeros(dim)\n",
    "vt = np.zeros(dim)"
   ]
  },
  {
   "cell_type": "code",
   "execution_count": 9,
   "metadata": {},
   "outputs": [],
   "source": [
    "# momentum parameter\n",
    "m1, dim1 = x_train.shape\n",
    "theta1 = np.zeros(dim1)  # 参数\n",
    "alpha1 = 0.01  # 学习率\n",
    "momentum1 = 0.1  # 冲量\n",
    "iterations1 = 1700  # 迭代次数\n",
    "gradient1 = 0  # 初始梯度为0"
   ]
  },
  {
   "cell_type": "code",
   "execution_count": 10,
   "metadata": {},
   "outputs": [
    {
     "name": "stdout",
     "output_type": "stream",
     "text": [
      "training time adam: 0.173536 sec\n"
     ]
    }
   ],
   "source": [
    "# algorithm adam no minibatch\n",
    "tStart = time.time()\n",
    "tmp_theta=[]\n",
    "tmp_iteration=[]\n",
    "tmp_time=[]\n",
    "totaltime=0\n",
    "for i in range(iterations):\n",
    "    tmp_tStart=time.time()\n",
    "    j = i % m\n",
    "    gradient = (1/1)* ((-np.exp(-y_train[j]*np.dot(x_train[j], theta))*y_train[j]*x_train[j]/(1+np.exp(-y_train[j]*np.dot(x_train[j], theta))))+0.001*np.sign(theta))  #theta key point\n",
    "    mt = b1 * mt + (1 - b1) * gradient\n",
    "    vt = b2 * vt + (1 - b2) * (gradient**2)\n",
    "    mtt = mt / (1 - (b1**(i + 1)))\n",
    "    vtt = vt / (1 - (b2**(i + 1)))\n",
    "    theta = theta - alpha * mtt / ((vtt**(1/2)) + e)\n",
    "    tmp_tEnd=time.time()\n",
    "    totaltime = totaltime + (tmp_tEnd-tmp_tStart)\n",
    "    if (i+1) % 50 ==0:\n",
    "        tmp_theta.append(theta)\n",
    "        tmp_iteration.append(i+1)\n",
    "        tmp_time.append(totaltime)\n",
    "tEnd = time.time()\n",
    "print (\"training time adam: %f sec\" % (tEnd - tStart))"
   ]
  },
  {
   "cell_type": "code",
   "execution_count": 11,
   "metadata": {},
   "outputs": [
    {
     "name": "stdout",
     "output_type": "stream",
     "text": [
      "training time momentum: 0.066850 sec\n"
     ]
    }
   ],
   "source": [
    "# algorithm momentum no minibatch\n",
    "tStart = time.time()\n",
    "tmp1_theta=[]\n",
    "tmp1_iteration=[]\n",
    "tmp1_time=[]\n",
    "totaltime1=0\n",
    "for i in range(iterations1):\n",
    "    tmp1_tStart=time.time()\n",
    "    j = i % m1\n",
    "    gradient1 = momentum1 * gradient1 + alpha1 *(1/1)* ((-np.exp(-y_train[j]*np.dot(x_train[j], theta1))*y_train[j]*x_train[j]/(1+np.exp(-y_train[j]*np.dot(x_train[j], theta1))))+0.001*np.sign(theta1))  #theta key point\n",
    "    theta1 -= gradient1\n",
    "    tmp1_tEnd=time.time()\n",
    "    totaltime1 = totaltime1 + (tmp1_tEnd-tmp1_tStart)\n",
    "    if (i+1) % 50 ==0:\n",
    "        tmp1_theta.append(theta1)\n",
    "        tmp1_iteration.append(i+1)\n",
    "        tmp1_time.append(totaltime1)   \n",
    "tEnd = time.time()\n",
    "print (\"training time momentum: %f sec\" % (tEnd - tStart))"
   ]
  },
  {
   "cell_type": "code",
   "execution_count": 12,
   "metadata": {},
   "outputs": [
    {
     "data": {
      "text/plain": [
       "array([-1.,  1.,  1., -1., -1., -1., -1., -1., -1.,  1.])"
      ]
     },
     "execution_count": 12,
     "metadata": {},
     "output_type": "execute_result"
    }
   ],
   "source": [
    "# predict training lable by adam\n",
    "logic=np.dot(x_train,theta)\n",
    "for i in range(len(logic)):\n",
    "    if logic[i]<0:\n",
    "        logic[i]=-1\n",
    "    else:\n",
    "        logic[i]=1\n",
    "predict_label=logic\n",
    "predict_label[0:10] "
   ]
  },
  {
   "cell_type": "code",
   "execution_count": 13,
   "metadata": {},
   "outputs": [
    {
     "name": "stdout",
     "output_type": "stream",
     "text": [
      "training accuracy adam: 0.841367 \n"
     ]
    }
   ],
   "source": [
    "# calculate training accuracy adam\n",
    "error_verify=[]\n",
    "for i in range(len(y_train)):\n",
    "    error_verify.append(y_train[i]*logic[i])\n",
    "\n",
    "count=0\n",
    "for i in range(len(error_verify)):\n",
    "    if error_verify[i]>0:\n",
    "        count=count+1\n",
    "        \n",
    "accuracy=count/len(error_verify)\n",
    "print(\"training accuracy adam: %f \" % accuracy )"
   ]
  },
  {
   "cell_type": "code",
   "execution_count": 14,
   "metadata": {},
   "outputs": [
    {
     "name": "stdout",
     "output_type": "stream",
     "text": [
      "training accuracy momentum: 0.835233 \n"
     ]
    }
   ],
   "source": [
    "# calculate training accuracy momentum\n",
    "logic2=np.dot(x_train,theta1)\n",
    "error2_verify=[]\n",
    "for i in range(len(y_train)):\n",
    "    error2_verify.append(y_train[i]*logic2[i])\n",
    "\n",
    "count2=0\n",
    "for i in range(len(error2_verify)):\n",
    "    if error2_verify[i]>0:\n",
    "        count2=count2+1\n",
    "        \n",
    "accuracy2=count2/len(error2_verify)\n",
    "print(\"training accuracy momentum: %f \" % accuracy2 )"
   ]
  },
  {
   "cell_type": "code",
   "execution_count": 15,
   "metadata": {},
   "outputs": [
    {
     "name": "stdout",
     "output_type": "stream",
     "text": [
      "testing accuracy adam: 0.849600 \n"
     ]
    }
   ],
   "source": [
    "# calculate testing accuracy adam\n",
    "logic1=np.dot(x_test,theta)\n",
    "error1_verify=[]\n",
    "for i in range(len(y_test)):\n",
    "    error1_verify.append(y_test[i]*logic1[i])\n",
    "\n",
    "count1=0\n",
    "for i in range(len(error1_verify)):\n",
    "    if error1_verify[i]>0:\n",
    "        count1=count1+1\n",
    "        \n",
    "accuracy1=count1/len(error1_verify)\n",
    "print(\"testing accuracy adam: %f \" % accuracy1 )"
   ]
  },
  {
   "cell_type": "code",
   "execution_count": 16,
   "metadata": {},
   "outputs": [
    {
     "name": "stdout",
     "output_type": "stream",
     "text": [
      "testing accuracy momentum: 0.835800 \n"
     ]
    }
   ],
   "source": [
    "# calculate testing accuracy momentum\n",
    "logic2=np.dot(x_test,theta1)\n",
    "error2_verify=[]\n",
    "for i in range(len(y_test)):\n",
    "    error2_verify.append(y_test[i]*logic2[i])\n",
    "\n",
    "count2=0\n",
    "for i in range(len(error2_verify)):\n",
    "    if error2_verify[i]>0:\n",
    "        count2=count2+1\n",
    "        \n",
    "accuracy2=count2/len(error2_verify)\n",
    "print(\"testing accuracy momentum: %f \" % accuracy2 )"
   ]
  },
  {
   "cell_type": "code",
   "execution_count": 17,
   "metadata": {},
   "outputs": [],
   "source": [
    "# calculate itrtations v.s. training error adam\n",
    "logic_tmp=[]\n",
    "for i in range(len(tmp_theta)):\n",
    "    logic_tmp.append(np.dot(x_train,tmp_theta[i]))\n",
    "    \n",
    "total_verify=[]\n",
    "for k in range(len(tmp_theta)):\n",
    "    error_verify=[]\n",
    "    for i in range(len(y_train)):\n",
    "        error_verify.append(y_train[i]*logic_tmp[k][i])\n",
    "    total_verify.append(error_verify)\n",
    "    \n",
    "total_accuracy=[]\n",
    "for k in range(len(total_verify)):\n",
    "    count=0\n",
    "    for i in range(len(total_verify[k])):\n",
    "        if total_verify[k][i]>0:\n",
    "            count=count+1\n",
    "    total_accuracy.append(count/len(total_verify[k]))\n",
    "    \n",
    "error=[]\n",
    "for i in range(len(total_accuracy)):\n",
    "    error.append(1-total_accuracy[i])"
   ]
  },
  {
   "cell_type": "code",
   "execution_count": 18,
   "metadata": {},
   "outputs": [],
   "source": [
    "# calculate itrtations v.s. training error momentum\n",
    "logic2_tmp=[]\n",
    "for i in range(len(tmp1_theta)):\n",
    "    logic2_tmp.append(np.dot(x_train,tmp1_theta[i]))\n",
    "    \n",
    "total2_verify=[]\n",
    "for k in range(len(tmp1_theta)):\n",
    "    error2_verify=[]\n",
    "    for i in range(len(y_train)):\n",
    "        error2_verify.append(y_train[i]*logic2_tmp[k][i])\n",
    "    total2_verify.append(error2_verify)\n",
    "    \n",
    "total2_accuracy=[]\n",
    "for k in range(len(total2_verify)):\n",
    "    count2=0\n",
    "    for i in range(len(total2_verify[k])):\n",
    "        if total2_verify[k][i]>0:\n",
    "            count2=count2+1\n",
    "    total2_accuracy.append(count2/len(total2_verify[k]))\n",
    "    \n",
    "error2=[]\n",
    "for i in range(len(total2_accuracy)):\n",
    "    error2.append(1-total2_accuracy[i])"
   ]
  },
  {
   "cell_type": "code",
   "execution_count": 19,
   "metadata": {},
   "outputs": [],
   "source": [
    "# calculate itrtations v.s. testing error adam\n",
    "logic1_tmp=[]\n",
    "for i in range(len(tmp_theta)):\n",
    "    logic1_tmp.append(np.dot(x_test,tmp_theta[i]))\n",
    "    \n",
    "total1_verify=[]\n",
    "for k in range(len(tmp_theta)):\n",
    "    error1_verify=[]\n",
    "    for i in range(len(y_test)):\n",
    "        error1_verify.append(y_test[i]*logic1_tmp[k][i])\n",
    "    total1_verify.append(error1_verify)\n",
    "    \n",
    "total1_accuracy=[]\n",
    "for k in range(len(total1_verify)):\n",
    "    count1=0\n",
    "    for i in range(len(total1_verify[k])):\n",
    "        if total1_verify[k][i]>0:\n",
    "            count1=count1+1\n",
    "    total1_accuracy.append(count1/len(total1_verify[k]))\n",
    "    \n",
    "error1=[]\n",
    "for i in range(len(total1_accuracy)):\n",
    "    error1.append(1-total1_accuracy[i])"
   ]
  },
  {
   "cell_type": "code",
   "execution_count": 20,
   "metadata": {},
   "outputs": [],
   "source": [
    "# calculate itrtations v.s. testing error momentum\n",
    "logic3_tmp=[]\n",
    "for i in range(len(tmp1_theta)):\n",
    "    logic3_tmp.append(np.dot(x_test,tmp1_theta[i]))\n",
    "    \n",
    "total3_verify=[]\n",
    "for k in range(len(tmp1_theta)):\n",
    "    error3_verify=[]\n",
    "    for i in range(len(y_test)):\n",
    "        error3_verify.append(y_test[i]*logic3_tmp[k][i])\n",
    "    total3_verify.append(error3_verify)\n",
    "    \n",
    "total3_accuracy=[]\n",
    "for k in range(len(total3_verify)):\n",
    "    count3=0\n",
    "    for i in range(len(total3_verify[k])):\n",
    "        if total3_verify[k][i]>0:\n",
    "            count3=count3+1\n",
    "    total3_accuracy.append(count3/len(total3_verify[k]))\n",
    "    \n",
    "error3=[]\n",
    "for i in range(len(total3_accuracy)):\n",
    "    error3.append(1-total3_accuracy[i])"
   ]
  },
  {
   "cell_type": "code",
   "execution_count": 21,
   "metadata": {},
   "outputs": [
    {
     "data": {
      "image/png": "[encoded data removed]",
      "text/plain": [
       "<Figure size 432x288 with 1 Axes>"
      ]
     },
     "metadata": {
      "needs_background": "light"
     },
     "output_type": "display_data"
    }
   ],
   "source": [
    "# plot training error v.s. iterations\n",
    "plt.figure()\n",
    "plt.plot(tmp_iteration,error,'k--',label=\"mnist-adam\")\n",
    "plt.plot(tmp1_iteration,error2,'r--',label=\"mnist-momentum\")\n",
    "plt.ylabel('Training error')\n",
    "plt.xlabel('Iterations')\n",
    "plt.legend()\n",
    "plt.show()"
   ]
  },
  {
   "cell_type": "code",
   "execution_count": 22,
   "metadata": {},
   "outputs": [
    {
     "data": {
      "image/png": "[encoded data removed]",
      "text/plain": [
       "<Figure size 432x288 with 1 Axes>"
      ]
     },
     "metadata": {
      "needs_background": "light"
     },
     "output_type": "display_data"
    }
   ],
   "source": [
    "# plot testing error v.s. time(s)\n",
    "plt.figure()\n",
    "plt.plot(tmp_time,error1,'k--',label=\"mnist-adam\")\n",
    "plt.plot(tmp1_time,error3,'r--',label=\"mnist-momentum\")\n",
    "plt.ylabel('Testing error')\n",
    "plt.xlabel('Times(s)')\n",
    "plt.legend()\n",
    "plt.show()"
   ]
  },
  {
   "cell_type": "code",
   "execution_count": null,
   "metadata": {},
   "outputs": [],
   "source": []
  }
 ],
 "metadata": {
  "kernelspec": {
   "display_name": "Python 3",
   "language": "python",
   "name": "python3"
  },
  "language_info": {
   "codemirror_mode": {
    "name": "ipython",
    "version": 3
   },
   "file_extension": ".py",
   "mimetype": "text/x-python",
   "name": "python",
   "nbconvert_exporter": "python",
   "pygments_lexer": "ipython3",
   "version": "3.7.4"
  }
 },
 "nbformat": 4,
 "nbformat_minor": 2
}
